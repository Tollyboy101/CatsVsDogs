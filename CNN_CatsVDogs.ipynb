{
 "cells": [
  {
   "cell_type": "code",
   "execution_count": 1,
   "metadata": {},
   "outputs": [
    {
     "name": "stdout",
     "output_type": "stream",
     "text": [
      "Train on 19724 samples, validate on 4932 samples\n",
      "Epoch 1/10\n",
      "19724/19724 [==============================] - 101s 5ms/step - loss: 0.6346 - acc: 0.6683 - val_loss: 0.5509 - val_acc: 0.7283\n",
      "Epoch 2/10\n",
      "19724/19724 [==============================] - 99s 5ms/step - loss: 0.5232 - acc: 0.7410 - val_loss: 0.5444 - val_acc: 0.7354\n",
      "Epoch 3/10\n",
      "19724/19724 [==============================] - 100s 5ms/step - loss: 0.4702 - acc: 0.7769 - val_loss: 0.5437 - val_acc: 0.7313\n",
      "Epoch 4/10\n",
      "19724/19724 [==============================] - 100s 5ms/step - loss: 0.4212 - acc: 0.8033 - val_loss: 0.5617 - val_acc: 0.7386\n",
      "Epoch 5/10\n",
      "19724/19724 [==============================] - 100s 5ms/step - loss: 0.3709 - acc: 0.8305 - val_loss: 0.6158 - val_acc: 0.7174\n",
      "Epoch 6/10\n",
      "19724/19724 [==============================] - 101s 5ms/step - loss: 0.3227 - acc: 0.8563 - val_loss: 0.6896 - val_acc: 0.7196\n",
      "Epoch 7/10\n",
      "19724/19724 [==============================] - 105s 5ms/step - loss: 0.2761 - acc: 0.8798 - val_loss: 0.7836 - val_acc: 0.7117\n",
      "Epoch 8/10\n",
      "19724/19724 [==============================] - 101s 5ms/step - loss: 0.2369 - acc: 0.8990 - val_loss: 0.8713 - val_acc: 0.7163\n",
      "Epoch 9/10\n",
      "19724/19724 [==============================] - 101s 5ms/step - loss: 0.2053 - acc: 0.9153 - val_loss: 1.0425 - val_acc: 0.6882\n",
      "Epoch 10/10\n",
      "19724/19724 [==============================] - 100s 5ms/step - loss: 0.1747 - acc: 0.9271 - val_loss: 1.1873 - val_acc: 0.6865\n"
     ]
    },
    {
     "data": {
      "text/plain": [
       "<tensorflow.python.keras.callbacks.History at 0x194d11f2358>"
      ]
     },
     "execution_count": 1,
     "metadata": {},
     "output_type": "execute_result"
    }
   ],
   "source": [
    "import tensorflow as tf\n",
    "from tensorflow.keras.layers import Dense, Flatten, Conv2D, Activation, Dropout, MaxPooling2D\n",
    "from tensorflow.keras.models import Sequential\n",
    "import pickle\n",
    "\n",
    "X = pickle.load(open(\"X.pickle\",\"rb\"))\n",
    "y = pickle.load(open(\"y.pickle\",\"rb\"))\n",
    "\n",
    "X = X/255.0\n",
    "\n",
    "model = Sequential()\n",
    "model.add(Conv2D(64,(3,3), input_shape = X.shape[1:]))\n",
    "model.add(Activation(\"relu\"))\n",
    "model.add(MaxPooling2D(pool_size=(2,2)))\n",
    "\n",
    "model = Sequential()\n",
    "model.add(Conv2D(64, (3,3), input_shape = X.shape[1:]))\n",
    "model.add(Activation(\"relu\"))\n",
    "model.add(MaxPooling2D(pool_size=(2,2)))\n",
    "\n",
    "model.add(Flatten())\n",
    "model.add(Dense(64))\n",
    "\n",
    "model.add(Dense(1))\n",
    "model.add(Activation(\"sigmoid\"))\n",
    "\n",
    "model.compile(loss=\"binary_crossentropy\",\n",
    "              optimizer='adam',\n",
    "              metrics=['accuracy'])\n",
    "\n",
    "model.fit(X,y,batch_size=32, epochs=10, validation_split=0.2)\n"
   ]
  },
  {
   "cell_type": "code",
   "execution_count": null,
   "metadata": {},
   "outputs": [],
   "source": []
  }
 ],
 "metadata": {
  "kernelspec": {
   "display_name": "Python 3",
   "language": "python",
   "name": "python3"
  },
  "language_info": {
   "codemirror_mode": {
    "name": "ipython",
    "version": 3
   },
   "file_extension": ".py",
   "mimetype": "text/x-python",
   "name": "python",
   "nbconvert_exporter": "python",
   "pygments_lexer": "ipython3",
   "version": "3.5.2"
  }
 },
 "nbformat": 4,
 "nbformat_minor": 2
}
